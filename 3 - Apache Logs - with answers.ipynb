{
 "cells": [
  {
   "cell_type": "markdown",
   "metadata": {},
   "source": [
    "# Web Server Log Analysis with Apache Spark\n",
    " \n",
    "This lab will demonstrate how easy it is to perform web server log analysis with Apache Spark.\n",
    "\n",
    "Server log analysis is an ideal use case for Spark.  It's a very large, common data source and contains a rich set of information. Spark allows you to store your logs in files on disk cheaply, while still providing a quick and simple way to perform data analysis on them. Log data comes from many sources, such as web, file, and compute servers, application logs, user-generated content, and can be used for monitoring servers, improving business and customer intelligence, building recommendation systems, fraud detection, and much more."
   ]
  },
  {
   "cell_type": "markdown",
   "metadata": {},
   "source": [
    "This lab is broken up into sections with bite-sized examples for demonstrating Spark functionality for log processing. For each problem, you should start by thinking about the algorithm that you will use to *efficiently* process the log in a parallel, distributed manner. This means using the various built in [pyspark functions](http://spark.apache.org/docs/latest/api/python/pyspark.sql.html#module-pyspark.sql.functions) along with some [user defined functions](http://spark.apache.org/docs/latest/api/python/pyspark.sql.html#pyspark.sql.functions.udf).\n",
    " \n",
    "This lab consists of 4 parts:\n",
    "\n",
    "1. Apache Web Server Log file format\n",
    "2. Sample Analyses on the Web Server Log File\n",
    "3. Analyzing Web Server Log File\n",
    "4. Exploring 404 Response Codes"
   ]
  },
  {
   "cell_type": "markdown",
   "metadata": {},
   "source": [
    "## (1) Apache Web Server Log file format\n",
    "\n",
    "The log files that we use for this lab are in the [Apache Common Log Format (CLF)](http://httpd.apache.org/docs/1.3/logs.html#common). The log file entries produced in CLF will look something like this:\n",
    "`127.0.0.1 - - [01/Aug/1995:00:00:01 -0400] \"GET /images/launch-logo.gif HTTP/1.0\" 200 1839`\n",
    " \n",
    "Each part of this log entry is described below.\n",
    "\n",
    "* `127.0.0.1` - This is the IP address (or host name, if available) of the client (remote host) which made the request to the server.\n",
    " \n",
    "* `-` - The \"hyphen\" in the output indicates that the requested piece of information (user identity from remote machine) is not available.\n",
    " \n",
    "* `-` - The \"hyphen\" in the output indicates that the requested piece of information (user identity from local logon) is not available.\n",
    "\n",
    "* `[01/Aug/1995:00:00:01 -0400]` - The time that the server finished processing the request. The format is:\n",
    "`[day/month/year:hour:minute:second timezone]`\n",
    "\n",
    "  * day = 2 digits\n",
    "  * month = 3 letters\n",
    "  * year = 4 digits\n",
    "  * hour = 2 digits\n",
    "  * minute = 2 digits\n",
    "  * second = 2 digits\n",
    "  * zone = (+|-) 4 digits\n",
    " \n",
    "* `\"GET /images/launch-logo.gif HTTP/1.0\"` - This is the first line of the request string from the client. It consists of a three components:\n",
    "\n",
    "  * the request method (e.g., `GET`, `POST`, etc.)\n",
    "  * the endpoint (a [Uniform Resource Identifier](http://en.wikipedia.org/wiki/Uniform_resource_identifier))\n",
    "  * the client protocol and version\n",
    "\n",
    "* `200` - This is the status code that the server sends back to the client. This information is very valuable, because it reveals whether the request resulted in a successful response (codes beginning in 2), a redirection (codes beginning in 3), an error caused by the client (codes beginning in 4), or an error in the server (codes beginning in 5). The full list of possible status codes can be found in the HTTP specification ([RFC 2616](https://www.ietf.org/rfc/rfc2616.txt) section 10).\n",
    " \n",
    "* `1839` - The last entry indicates the size of the object returned to the client, not including the response headers. If no content was returned to the client, this value will be \"-\" (or sometimes 0).\n",
    " \n",
    "Note that log files contain information supplied directly by the client, without escaping. Therefore, it is possible for malicious clients to insert control-characters in the log files, *so care must be taken in dealing with raw logs.*\n",
    "\n",
    "For this lab, we will use a data set from NASA Kennedy Space Center WWW server in Florida. The full data set is freely available (http://ita.ee.lbl.gov/html/contrib/NASA-HTTP.html) and contains two months of HTTP requests. We are using a subset that only contains several days worth of requests."
   ]
  },
  {
   "cell_type": "markdown",
   "metadata": {},
   "source": [
    "## (1a) Parse a Log Timestamp\n",
    "\n",
    "We must first write a function that can parse an Apache Logs format timestamp. For this you should use `datetime.strptime()`. Passing a pattern string formatted according to [the documentation](https://docs.python.org/3/library/datetime.html#strftime-strptime-behavior), this can be used to build a `datetime` object from a string.\n",
    "\n",
    "For example:"
   ]
  },
  {
   "cell_type": "code",
   "execution_count": 1,
   "metadata": {
    "collapsed": false
   },
   "outputs": [
    {
     "data": {
      "text/plain": [
       "datetime.datetime(2017, 2, 17, 14, 5)"
      ]
     },
     "execution_count": 1,
     "metadata": {},
     "output_type": "execute_result"
    }
   ],
   "source": [
    "from datetime import datetime\n",
    "\n",
    "pattern = '%d/%m/%y %H:%M'\n",
    "timestamp = '17/02/17 14:05'\n",
    "\n",
    "datetime.strptime(timestamp, pattern)"
   ]
  },
  {
   "cell_type": "markdown",
   "metadata": {},
   "source": [
    "Below we use this to define a function that parses an Apache log format timestamp to a `datetime` object (or `None` in the case of an invalid timestamp). Complete the time pattern to correctly parse Apache timestamps."
   ]
  },
  {
   "cell_type": "code",
   "execution_count": 2,
   "metadata": {
    "collapsed": false
   },
   "outputs": [
    {
     "name": "stdout",
     "output_type": "stream",
     "text": [
      "1995-08-01 00:00:08-04:00\n"
     ]
    }
   ],
   "source": [
    "APACHE_TIME_PATTERN ='%d/%b/%Y:%H:%M:%S %z'\n",
    "\n",
    "def parse_apache_time(string):\n",
    "    \"\"\"Parse an Apache log formatted date string.\n",
    "    \n",
    "    Parameters\n",
    "    ----------\n",
    "    string : str\n",
    "        The string to parse\n",
    "        \n",
    "    Returns\n",
    "    -------\n",
    "    datetime or None\n",
    "    \"\"\"\n",
    "    try:\n",
    "        return datetime.strptime(string, APACHE_TIME_PATTERN)\n",
    "    except ValueError:\n",
    "        return None\n",
    "\n",
    "parsed_time = parse_apache_time('01/Aug/1995:00:00:08 -0400')\n",
    "print(parsed_time)"
   ]
  },
  {
   "cell_type": "code",
   "execution_count": 3,
   "metadata": {
    "collapsed": false
   },
   "outputs": [
    {
     "name": "stdout",
     "output_type": "stream",
     "text": [
      "1 test passed.\n"
     ]
    }
   ],
   "source": [
    "from test_helper import Test\n",
    "from datetime import timedelta, timezone\n",
    "utc_minus_4 = timezone(timedelta(hours=-4))\n",
    "Test.assertEquals(parsed_time,\n",
    "                  datetime(1995, 8, 1, 0, 0, 8, tzinfo=utc_minus_4),\n",
    "                 'incorrect parsed_time')"
   ]
  },
  {
   "cell_type": "markdown",
   "metadata": {},
   "source": [
    "## (1b) Extract components from log line\n",
    "\n",
    "Using the CLF as defined above, we write a regular expression pattern to extract the nine fields of the log line. This regular expression should extract 9 'groups' - one for each of:\n",
    "\n",
    "* Client host (hostname or IP address)\n",
    "* Remote user identity\n",
    "* Local user identity\n",
    "* Timestamp\n",
    "* Request method\n",
    "* Endpoint\n",
    "* Client protocol and version\n",
    "* Returned HTTP status code\n",
    "* Returned content size\n",
    "\n",
    "The function `parse_apache_log_line` applies the regular expression `APACHE_ACCESS_LOG_PATTERN` using the python [`re.search`](https://docs.python.org/3/library/re.html#re.search) method. Execute the cell to test the regular expression on a sample row."
   ]
  },
  {
   "cell_type": "code",
   "execution_count": 4,
   "metadata": {
    "collapsed": false
   },
   "outputs": [
    {
     "name": "stdout",
     "output_type": "stream",
     "text": [
      "{'client_identd': '-',\n",
      " 'content_size': '0',\n",
      " 'date_time': '01/Aug/1995:00:00:08 -0400',\n",
      " 'endpoint': '/images/ksclogo-medium.gif',\n",
      " 'host': 'uplherc.upl.com',\n",
      " 'method': 'GET',\n",
      " 'protocol': 'HTTP/1.0',\n",
      " 'response_code': '304',\n",
      " 'user_id': '-'}\n"
     ]
    }
   ],
   "source": [
    "import re\n",
    "from pprint import pprint\n",
    "\n",
    "APACHE_ACCESS_LOG_PATTERN = '^(\\S+) (\\S+) (\\S+) \\[([\\w:/]+\\s[+\\-]\\d{4})\\] \"(\\S+) (\\S+)\\s*(\\S*)\" (\\d{3}) (\\S+)'\n",
    "\n",
    "APACHE_LOG_FIELD_NAMES = [\n",
    "    'host', 'client_identd', 'user_id', 'date_time', 'method', 'endpoint',\n",
    "    'protocol', 'response_code', 'content_size'\n",
    "]\n",
    "APACHE_ACCESS_LOG_SAMPLE_LINE = 'uplherc.upl.com - - [01/Aug/1995:00:00:08 -0400] \"GET /images/ksclogo-medium.gif HTTP/1.0\" 304 0'\n",
    "\n",
    "\n",
    "def parse_apache_log_line(logline):\n",
    "    \"\"\"Parse a line in the Apache Common Log format.\n",
    "    \n",
    "    Parameters\n",
    "    ----------\n",
    "    logline : str\n",
    "        A line of text in the Apache Common Log format\n",
    "        \n",
    "    Returns\n",
    "    -------\n",
    "    dict or None\n",
    "        The parsed line\n",
    "    \"\"\"\n",
    "    \n",
    "    match = re.search(APACHE_ACCESS_LOG_PATTERN, logline)\n",
    "    \n",
    "    if match is None:\n",
    "        return\n",
    "    \n",
    "    fields = dict(zip(APACHE_LOG_FIELD_NAMES, match.groups()))\n",
    "\n",
    "    return fields\n",
    "\n",
    "\n",
    "pprint(parse_apache_log_line(APACHE_ACCESS_LOG_SAMPLE_LINE))"
   ]
  },
  {
   "cell_type": "code",
   "execution_count": 5,
   "metadata": {
    "collapsed": false
   },
   "outputs": [
    {
     "name": "stdout",
     "output_type": "stream",
     "text": [
      "1 test passed.\n"
     ]
    }
   ],
   "source": [
    "Test.assertEquals(parse_apache_log_line(APACHE_ACCESS_LOG_SAMPLE_LINE),\n",
    "                  {'client_identd': '-', 'content_size': '0', 'date_time': '01/Aug/1995:00:00:08 -0400',\n",
    "                   'endpoint': '/images/ksclogo-medium.gif', 'host': 'uplherc.upl.com', 'method': 'GET',\n",
    "                   'protocol': 'HTTP/1.0', 'response_code': '304', 'user_id': '-'},\n",
    "                  'log line incorrectly parsed')"
   ]
  },
  {
   "cell_type": "markdown",
   "metadata": {},
   "source": [
    "## (1c) Configuration and Initial RDD Creation\n",
    "\n",
    "We are ready to specify the input log file and load it into a DataFrame.\n",
    "\n",
    "Let's start by fetching the data:"
   ]
  },
  {
   "cell_type": "code",
   "execution_count": 6,
   "metadata": {
    "collapsed": false
   },
   "outputs": [
    {
     "name": "stdout",
     "output_type": "stream",
     "text": [
      "--2017-02-17 12:50:22--  https://s3-eu-west-1.amazonaws.com/asi-training-data/spark/apache.access.log.PROJECT\n",
      "Resolving s3-eu-west-1.amazonaws.com (s3-eu-west-1.amazonaws.com)... 52.218.48.172\n",
      "Connecting to s3-eu-west-1.amazonaws.com (s3-eu-west-1.amazonaws.com)|52.218.48.172|:443... connected.\n",
      "HTTP request sent, awaiting response... 200 OK\n",
      "Length: 111503503 (106M) [application/octet-stream]\n",
      "Saving to: ‘apache.access.log.PROJECT’\n",
      "\n",
      "apache.access.log.P 100%[===================>] 106.34M   101MB/s    in 1.1s    \n",
      "\n",
      "2017-02-17 12:50:23 (101 MB/s) - ‘apache.access.log.PROJECT’ saved [111503503/111503503]\n",
      "\n"
     ]
    }
   ],
   "source": [
    "!rm -rf apache.access.log.*\n",
    "!wget https://s3-eu-west-1.amazonaws.com/asi-training-data/spark/apache.access.log.PROJECT"
   ]
  },
  {
   "cell_type": "markdown",
   "metadata": {},
   "source": [
    "To create the primary RDD that we'll use in the rest of this lab, we first load the text file using [`spark.read.text()`](http://spark.apache.org/docs/latest/api/python/pyspark.sql.html#pyspark.sql.DataFrameReader.text).\n",
    "\n",
    "Next, we use `.select()` on the DataFrame along with some [pyspark functions](http://spark.apache.org/docs/latest/api/python/pyspark.sql.html#module-pyspark.sql.functions) and [user defined functions](http://spark.apache.org/docs/latest/api/python/pyspark.sql.html#pyspark.sql.functions.udf) to generate a new DataFrame with the fields parsed into the desired formats.\n",
    "\n",
    "Finally, we cache the DataFrame in memory since we'll use it throughout this notebook."
   ]
  },
  {
   "cell_type": "code",
   "execution_count": 7,
   "metadata": {
    "collapsed": false
   },
   "outputs": [
    {
     "name": "stdout",
     "output_type": "stream",
     "text": [
      "Total logs:          1043177\n",
      "Successfully parsed: 1043069\n",
      "Failed to parse:     108\n"
     ]
    }
   ],
   "source": [
    "APACHE_LOG_FILE = \"apache.access.log.PROJECT\"\n",
    "\n",
    "import pyspark.sql.functions as func\n",
    "from pyspark.sql import types\n",
    "\n",
    "\n",
    "# A helper to generate a `.select()` entry that applies the access log\n",
    "# regular expression to the 'line' column and extracts a particular group as a new column\n",
    "extract_field = lambda group: func.regexp_extract('line', APACHE_ACCESS_LOG_PATTERN, group)\n",
    "\n",
    "# A helper function to apply parse_apache_time to a column\n",
    "parse_apache_time_udf = func.udf(parse_apache_time, types.TimestampType())\n",
    "\n",
    "# A helper function to cast a column to integer type\n",
    "cast_int = lambda col: col.cast('int')\n",
    "\n",
    "# A helper function to cast a column to integer type, interpreting '-' as 0\n",
    "safe_cast_int = lambda col: func.when(col == '-', 0).otherwise(col.cast('int'))\n",
    "    \n",
    "\n",
    "def parse_logs():\n",
    "    \"\"\"Load and parse the logs.\n",
    "    \n",
    "    Returns\n",
    "    -------\n",
    "    pyspark.sql.DataFrame\n",
    "        All the logs\n",
    "    pyspark.sql.DataFrame\n",
    "        The correctly parsed logs\n",
    "    pyspark.sql.DataFrame\n",
    "        The logs that could not be parsed\n",
    "    \"\"\"\n",
    "    \n",
    "    # Load the dataset and rename the column to 'line'\n",
    "    logs = (spark.read.text(APACHE_LOG_FILE)\n",
    "            .select(func.col('value').alias('line')))\n",
    "    \n",
    "    # Parse the fields\n",
    "    parsed_logs = (logs\n",
    "                   .select(\n",
    "                       'line',  # Include the original line column\n",
    "                       extract_field(1).alias('host'),\n",
    "                       extract_field(2).alias('client_identd'),\n",
    "                       extract_field(3).alias('user_id'),\n",
    "                       parse_apache_time_udf(\n",
    "                           extract_field(4)\n",
    "                       ).alias('date_time'),\n",
    "                       extract_field(5).alias('method'),\n",
    "                       extract_field(6).alias('endpoint'),\n",
    "                       extract_field(7).alias('protocol'),\n",
    "                       cast_int(\n",
    "                           extract_field(8)\n",
    "                       ).alias('response_code'),\n",
    "                       safe_cast_int(\n",
    "                           extract_field(9)\n",
    "                       ).alias('content_size')\n",
    "                   )\n",
    "                   .cache())\n",
    "    \n",
    "    # Filter for correctly parsed logs\n",
    "    access_logs = parsed_logs.filter(func.length('host') > 0)\n",
    "    failed_logs = parsed_logs.filter(func.length('host') == 0)\n",
    "    \n",
    "    return parsed_logs, access_logs, failed_logs\n",
    "\n",
    "\n",
    "parsed_logs, access_logs, failed_logs = parse_logs()\n",
    "\n",
    "print('Total logs:          {}'.format(parsed_logs.count()))\n",
    "print('Successfully parsed: {}'.format(access_logs.count()))\n",
    "print('Failed to parse:     {}'.format(failed_logs.count()))"
   ]
  },
  {
   "cell_type": "markdown",
   "metadata": {},
   "source": [
    "## (1d) Data Cleaning\n",
    "\n",
    "Notice that there are a number of log lines that failed to parse. Since we included the original line column in the parsed DataFrames, we can inspect the lines we failed to pass with:"
   ]
  },
  {
   "cell_type": "code",
   "execution_count": 8,
   "metadata": {
    "collapsed": false
   },
   "outputs": [
    {
     "name": "stdout",
     "output_type": "stream",
     "text": [
      "First 20 failed log lines:\n",
      "'ix-sac6-20.ix.netcom.com - - [08/Aug/1995:14:43:39 -0400] \"GET / HTTP/1.0 \" 200 7131'\n",
      "'ix-sac6-20.ix.netcom.com - - [08/Aug/1995:14:43:57 -0400] \"GET /images/ksclogo-medium.gif HTTP/1.0 \" 200 5866'\n",
      "'ix-sac6-20.ix.netcom.com - - [08/Aug/1995:14:44:07 -0400] \"GET /images/NASA-logosmall.gif HTTP/1.0 \" 200 786'\n",
      "'ix-sac6-20.ix.netcom.com - - [08/Aug/1995:14:44:11 -0400] \"GET /images/MOSAIC-logosmall.gif HTTP/1.0 \" 200 363'\n",
      "'ix-sac6-20.ix.netcom.com - - [08/Aug/1995:14:44:13 -0400] \"GET /images/USA-logosmall.gif HTTP/1.0 \" 200 234'\n",
      "'ix-sac6-20.ix.netcom.com - - [08/Aug/1995:14:44:15 -0400] \"GET /images/WORLD-logosmall.gif HTTP/1.0 \" 200 669'\n",
      "'ix-sac6-20.ix.netcom.com - - [08/Aug/1995:14:44:31 -0400] \"GET /shuttle/countdown/ HTTP/1.0 \" 200 4673'\n",
      "'ix-sac6-20.ix.netcom.com - - [08/Aug/1995:14:44:41 -0400] \"GET /shuttle/missions/sts-69/count69.gif HTTP/1.0 \" 200 46053'\n",
      "'ix-sac6-20.ix.netcom.com - - [08/Aug/1995:14:45:34 -0400] \"GET /images/KSC-logosmall.gif HTTP/1.0 \" 200 1204'\n",
      "'ix-sac6-20.ix.netcom.com - - [08/Aug/1995:14:45:46 -0400] \"GET /cgi-bin/imagemap/countdown69?293,287 HTTP/1.0 \" 302 85'\n",
      "'ix-sac6-20.ix.netcom.com - - [08/Aug/1995:14:45:48 -0400] \"GET /htbin/cdt_main.pl HTTP/1.0 \" 200 3714'\n",
      "'ix-sac6-20.ix.netcom.com - - [08/Aug/1995:14:45:52 -0400] \"GET /shuttle/countdown/images/countclock.gif HTTP/1.0 \" 200 13994'\n",
      "'ix-li1-14.ix.netcom.com - - [08/Aug/1995:14:46:22 -0400] \"GET / HTTP/1.0 \" 200 7131'\n",
      "'ix-li1-14.ix.netcom.com - - [08/Aug/1995:14:46:29 -0400] \"GET /images/ksclogo-medium.gif HTTP/1.0 \" 200 5866'\n",
      "'ix-li1-14.ix.netcom.com - - [08/Aug/1995:14:46:35 -0400] \"GET /images/NASA-logosmall.gif HTTP/1.0 \" 200 786'\n",
      "'ix-li1-14.ix.netcom.com - - [08/Aug/1995:14:46:37 -0400] \"GET /images/MOSAIC-logosmall.gif HTTP/1.0 \" 200 363'\n",
      "'ix-li1-14.ix.netcom.com - - [08/Aug/1995:14:46:38 -0400] \"GET /images/USA-logosmall.gif HTTP/1.0 \" 200 234'\n",
      "'ix-li1-14.ix.netcom.com - - [08/Aug/1995:14:46:40 -0400] \"GET /images/WORLD-logosmall.gif HTTP/1.0 \" 200 669'\n",
      "'ix-li1-14.ix.netcom.com - - [08/Aug/1995:14:47:41 -0400] \"GET /shuttle/missions/sts-70/mission-sts-70.html HTTP/1.0 \" 200 20304'\n",
      "'ix-sac6-20.ix.netcom.com - - [08/Aug/1995:14:47:48 -0400] \"GET /shuttle/countdown/count.html HTTP/1.0 \" 200 73231'\n"
     ]
    }
   ],
   "source": [
    "print('First 20 failed log lines:')\n",
    "for row in failed_logs.head(20):\n",
    "    print(repr(row['line']))"
   ]
  },
  {
   "cell_type": "markdown",
   "metadata": {},
   "source": [
    "Examine the sample of invalid lines and compare them to the correctly parsed line. Based on your observations, alter the `APACHE_ACCESS_LOG_PATTERN` regular expression below so that the failed lines will correctly parse, and execute the cell below to rerun `parse_logs()`.\n",
    " \n",
    "If you not familar with Python regular expression [`search` function](https://docs.python.org/3/library/re.html#regular-expression-objects), now would be a good time to check up on the [documentation](https://developers.google.com/edu/python/regular-expressions). One tip that might be useful is to use an online tester like http://pythex.org or http://www.pythonregex.com. To use it, copy and paste the regular expression string below (located between the single quotes ') and test it against one of the 'Invalid logline' above."
   ]
  },
  {
   "cell_type": "code",
   "execution_count": 9,
   "metadata": {
    "collapsed": false
   },
   "outputs": [
    {
     "name": "stdout",
     "output_type": "stream",
     "text": [
      "Total logs:          1043177\n",
      "Successfully parsed: 1043177\n",
      "Failed to parse:     0\n"
     ]
    }
   ],
   "source": [
    "# TODO: Replace <FILL IN> with appropriate code\n",
    "\n",
    "# This was originally '^(\\S+) (\\S+) (\\S+) \\[([\\w:/]+\\s[+\\-]\\d{4})\\] \"(\\S+) (\\S+)\\s*(\\S*)\" (\\d{3}) (\\S+)'\n",
    "APACHE_ACCESS_LOG_PATTERN = '^(\\S+) (\\S+) (\\S+) \\[([\\w:/]+\\s[+\\-]\\d{4})\\] \"(\\S+) (\\S+)\\s*(\\S*)\\s*\" (\\d{3}) (\\S+)'\n",
    "\n",
    "parsed_logs, access_logs, failed_logs = parse_logs()\n",
    "\n",
    "print('Total logs:          {}'.format(parsed_logs.count()))\n",
    "print('Successfully parsed: {}'.format(access_logs.count()))\n",
    "print('Failed to parse:     {}'.format(failed_logs.count()))"
   ]
  },
  {
   "cell_type": "code",
   "execution_count": 10,
   "metadata": {
    "collapsed": false
   },
   "outputs": [
    {
     "name": "stdout",
     "output_type": "stream",
     "text": [
      "1 test passed.\n",
      "1 test passed.\n",
      "1 test passed.\n"
     ]
    }
   ],
   "source": [
    "Test.assertEquals(failed_logs.count(), 0, 'incorrect failed_logs.count()')\n",
    "Test.assertEquals(parsed_logs.count(), 1043177 , 'incorrect parsed_logs.count()')\n",
    "Test.assertEquals(access_logs.count(), parsed_logs.count(), 'incorrect access_logs.count()')"
   ]
  },
  {
   "cell_type": "markdown",
   "metadata": {},
   "source": [
    "## (2) Sample Analyses on the Web Server Log File\n",
    " \n",
    "Now that we have a DataFrame containing the components of the log file as columns, we can perform various analyses.\n",
    " \n",
    "### (2a) Example: Content Size Statistics\n",
    "\n",
    "Let's compute some statistics about the sizes of content being returned by the web server. In particular, we'd like to know what are the average, minimum, and maximum content sizes.\n",
    " \n",
    "We can compute the statistics by calling `.select()` with an aggregating [pyspark function](http://spark.apache.org/docs/latest/api/python/pyspark.sql.html#module-pyspark.sql.functions) such as [`min()`](http://spark.apache.org/docs/latest/api/python/pyspark.sql.html#pyspark.sql.functions.min), [`max()`](http://spark.apache.org/docs/latest/api/python/pyspark.sql.html#pyspark.sql.functions.max) and [`avg()`](http://spark.apache.org/docs/latest/api/python/pyspark.sql.html#pyspark.sql.functions.avg):"
   ]
  },
  {
   "cell_type": "code",
   "execution_count": 11,
   "metadata": {
    "collapsed": false
   },
   "outputs": [
    {
     "name": "stdout",
     "output_type": "stream",
     "text": [
      "Content size:\n",
      "  min:  0\n",
      "  max:  3421948\n",
      "  mean: 17531.555702435926\n"
     ]
    }
   ],
   "source": [
    "min_size = access_logs.select(func.min('content_size')).first()[0]\n",
    "max_size = access_logs.select(func.max('content_size')).first()[0]\n",
    "mean_size = access_logs.select(func.avg('content_size')).first()[0]\n",
    "\n",
    "print('Content size:')\n",
    "print('  min:  {}'.format(min_size))\n",
    "print('  max:  {}'.format(max_size))\n",
    "print('  mean: {}'.format(mean_size))"
   ]
  },
  {
   "cell_type": "markdown",
   "metadata": {},
   "source": [
    "### (2b) Example: Response Code Analysis\n",
    "\n",
    "Next, lets look at the response codes that appear in the log. We'd like to count the number of times each response code occurs in the logs.\n",
    "\n",
    "To do this, first group the logs by response code, then count the size of each group:"
   ]
  },
  {
   "cell_type": "code",
   "execution_count": 12,
   "metadata": {
    "collapsed": false
   },
   "outputs": [
    {
     "data": {
      "text/html": [
       "<div>\n",
       "<table border=\"1\" class=\"dataframe\">\n",
       "  <thead>\n",
       "    <tr style=\"text-align: right;\">\n",
       "      <th></th>\n",
       "      <th>response_code</th>\n",
       "      <th>count</th>\n",
       "    </tr>\n",
       "  </thead>\n",
       "  <tbody>\n",
       "    <tr>\n",
       "      <th>0</th>\n",
       "      <td>501</td>\n",
       "      <td>17</td>\n",
       "    </tr>\n",
       "    <tr>\n",
       "      <th>1</th>\n",
       "      <td>500</td>\n",
       "      <td>2</td>\n",
       "    </tr>\n",
       "    <tr>\n",
       "      <th>2</th>\n",
       "      <td>403</td>\n",
       "      <td>58</td>\n",
       "    </tr>\n",
       "    <tr>\n",
       "      <th>3</th>\n",
       "      <td>404</td>\n",
       "      <td>6185</td>\n",
       "    </tr>\n",
       "    <tr>\n",
       "      <th>4</th>\n",
       "      <td>200</td>\n",
       "      <td>940847</td>\n",
       "    </tr>\n",
       "    <tr>\n",
       "      <th>5</th>\n",
       "      <td>304</td>\n",
       "      <td>79824</td>\n",
       "    </tr>\n",
       "    <tr>\n",
       "      <th>6</th>\n",
       "      <td>302</td>\n",
       "      <td>16244</td>\n",
       "    </tr>\n",
       "  </tbody>\n",
       "</table>\n",
       "</div>"
      ],
      "text/plain": [
       "   response_code   count\n",
       "0            501      17\n",
       "1            500       2\n",
       "2            403      58\n",
       "3            404    6185\n",
       "4            200  940847\n",
       "5            304   79824\n",
       "6            302   16244"
      ]
     },
     "execution_count": 12,
     "metadata": {},
     "output_type": "execute_result"
    }
   ],
   "source": [
    "response_code_counts = (access_logs\n",
    "                        .groupBy('response_code')\n",
    "                        .count())\n",
    "response_code_counts.toPandas()"
   ]
  },
  {
   "cell_type": "markdown",
   "metadata": {},
   "source": [
    "### (2c) Example: Response Code Graphing with `matplotlib`\n",
    "\n",
    "Now, lets visualize the results from the last example. We can visualize the results from the last example using [`matplotlib`](http://matplotlib.org/)."
   ]
  },
  {
   "cell_type": "code",
   "execution_count": 13,
   "metadata": {
    "collapsed": false
   },
   "outputs": [
    {
     "data": {
      "image/png": "[encoded data removed]",
      "text/plain": [
       "<matplotlib.figure.Figure at 0x7f94eb93fef0>"
      ]
     },
     "metadata": {},
     "output_type": "display_data"
    }
   ],
   "source": [
    "pandas_df = (response_code_counts\n",
    "             .orderBy('response_code')\n",
    "             .toPandas())\n",
    "\n",
    "import numpy as np\n",
    "from matplotlib import pyplot\n",
    "%matplotlib inline\n",
    "\n",
    "fig, ax = pyplot.subplots(figsize=(12, 6))\n",
    "\n",
    "ax.bar(np.arange(7), pandas_df['count'])\n",
    "\n",
    "ax.set_xticks(np.arange(7))\n",
    "ax.set_xticklabels(pandas_df['response_code'])\n",
    "\n",
    "ax.set_xlabel('Response code')\n",
    "ax.set_ylabel('Hits')\n",
    "\n",
    "pass"
   ]
  },
  {
   "cell_type": "markdown",
   "metadata": {},
   "source": [
    "### (2d) Example: Frequent Hosts\n",
    "\n",
    "Let's look at hosts that have accessed the server multiple times (e.g., more than ten times). As with the response code analysis in (2b), first we group by host, then we count the size of each group. Finally, we can apply a `.filter()` to return only hosts accessed the correct number of times."
   ]
  },
  {
   "cell_type": "code",
   "execution_count": 14,
   "metadata": {
    "collapsed": false
   },
   "outputs": [
    {
     "name": "stdout",
     "output_type": "stream",
     "text": [
      "+-------------------------+-----+\n",
      "|host                     |count|\n",
      "+-------------------------+-----+\n",
      "|ird.scitex.com           |13   |\n",
      "|163.205.166.15           |228  |\n",
      "|enigma.idirect.com       |276  |\n",
      "|ppp20.coara.or.jp        |39   |\n",
      "|128.159.63.129           |12   |\n",
      "|132.170.244.49           |12   |\n",
      "|hp165.den.mmc.com        |68   |\n",
      "|128.159.143.43           |52   |\n",
      "|lib-golf.tamu.edu        |20   |\n",
      "|163.205.80.44            |203  |\n",
      "|dyna-53.bart.nl          |12   |\n",
      "|164.116.78.80            |29   |\n",
      "|158.114.228.10           |110  |\n",
      "|ss4-35.lab.cwu.edu       |19   |\n",
      "|194.172.75.2             |24   |\n",
      "|inet01.tuat.ac.jp        |25   |\n",
      "|134.39.70.204            |94   |\n",
      "|pipe2.nyc.pipeline.com   |53   |\n",
      "|ix-atl9-26.ix.netcom.com |25   |\n",
      "|cse-520b-03.circa.ufl.edu|33   |\n",
      "+-------------------------+-----+\n",
      "only showing top 20 rows\n",
      "\n"
     ]
    }
   ],
   "source": [
    "host_more_than_10 = (access_logs\n",
    "                     .groupBy('host')\n",
    "                     .count()\n",
    "                     .filter(func.col('count') > 10))\n",
    "host_more_than_10.show(truncate=False)"
   ]
  },
  {
   "cell_type": "code",
   "execution_count": 15,
   "metadata": {
    "collapsed": false
   },
   "outputs": [
    {
     "name": "stdout",
     "output_type": "stream",
     "text": [
      "1 test passed.\n"
     ]
    }
   ],
   "source": [
    "Test.assertEquals(host_more_than_10.count(),\n",
    "                  23656,\n",
    "                  'incorrect size of host_more_than_10')"
   ]
  },
  {
   "cell_type": "markdown",
   "metadata": {},
   "source": [
    "### (2e) Example: Visualizing Endpoints\n",
    "\n",
    "Now, lets visualize the number of hits to endpoints (URIs) in the log. To perform this task, we once again group and count to get the number of times each endpoint occurs in the logs, then order by descending number of hits. This data can then be plotted with matplotlib:"
   ]
  },
  {
   "cell_type": "code",
   "execution_count": 16,
   "metadata": {
    "collapsed": false
   },
   "outputs": [
    {
     "data": {
      "image/png": "[encoded data removed]",
      "text/plain": [
       "<matplotlib.figure.Figure at 0x7f94d913fb38>"
      ]
     },
     "metadata": {},
     "output_type": "display_data"
    }
   ],
   "source": [
    "endpoints = (access_logs\n",
    "             .groupBy('endpoint')\n",
    "             .count()\n",
    "             .orderBy('count', ascending=False))\n",
    "\n",
    "fig, ax = pyplot.subplots(figsize=(12, 6))\n",
    "ax.plot(endpoints.toPandas()['count'])\n",
    "\n",
    "ax.set_xlabel('Endpoints')\n",
    "ax.set_ylabel('Number of Hits')\n",
    "ax.grid()\n",
    "\n",
    "pass"
   ]
  },
  {
   "cell_type": "markdown",
   "metadata": {},
   "source": [
    "### (2f) Example: Top Endpoints\n",
    "\n",
    "For the final example, we'll look at the top endpoints (URIs) in the log. Since the DataFrame is already ordered by number of hits, we can just print the first ten lines:"
   ]
  },
  {
   "cell_type": "code",
   "execution_count": 17,
   "metadata": {
    "collapsed": false
   },
   "outputs": [
    {
     "name": "stdout",
     "output_type": "stream",
     "text": [
      "Top ten endpoints:\n",
      "/images/NASA-logosmall.gif 59737\n",
      "/images/KSC-logosmall.gif 50452\n",
      "/images/MOSAIC-logosmall.gif 43890\n",
      "/images/USA-logosmall.gif 43664\n",
      "/images/WORLD-logosmall.gif 43277\n",
      "/images/ksclogo-medium.gif 41336\n",
      "/ksc.html 28582\n",
      "/history/apollo/images/apollo-logo1.gif 26778\n",
      "/images/launch-logo.gif 24755\n",
      "/ 20292\n"
     ]
    }
   ],
   "source": [
    "print('Top ten endpoints:')\n",
    "for row in endpoints.head(10):\n",
    "    print('{} {}'.format(row['endpoint'], row['count']))"
   ]
  },
  {
   "cell_type": "code",
   "execution_count": 18,
   "metadata": {
    "collapsed": false
   },
   "outputs": [
    {
     "name": "stdout",
     "output_type": "stream",
     "text": [
      "1 test passed.\n"
     ]
    }
   ],
   "source": [
    "Test.assertEquals([row['endpoint'] for row in endpoints.head(10)],\n",
    "                  ['/images/NASA-logosmall.gif', \n",
    "                   '/images/KSC-logosmall.gif',\n",
    "                   '/images/MOSAIC-logosmall.gif',\n",
    "                   '/images/USA-logosmall.gif',\n",
    "                   '/images/WORLD-logosmall.gif',\n",
    "                   '/images/ksclogo-medium.gif',\n",
    "                   '/ksc.html',\n",
    "                   '/history/apollo/images/apollo-logo1.gif',\n",
    "                   '/images/launch-logo.gif',\n",
    "                   '/'],\n",
    "                  'incorrect top_ten_endpoints')"
   ]
  },
  {
   "cell_type": "markdown",
   "metadata": {},
   "source": [
    "## (3) Analyzing Web Server Log File\n",
    " \n",
    "Now it is your turn to perform analyses on web server log files."
   ]
  },
  {
   "cell_type": "markdown",
   "metadata": {},
   "source": [
    "### (3a) Exercise: Top Ten Error Endpoints\n",
    "\n",
    "What are the top ten endpoints which did not have return code 200? Create a sorted list containing top ten endpoints and the number of times that they were accessed with non-200 return code.\n",
    " \n",
    "Think about the steps that you need to perform to determine which endpoints did not have a 200 return code, how you will uniquely count those endpoints, and sort the list.\n",
    " \n",
    "You might want to refer back to the previous Lab (Lab 1 Word Count) for insights."
   ]
  },
  {
   "cell_type": "code",
   "execution_count": 19,
   "metadata": {
    "collapsed": false
   },
   "outputs": [
    {
     "name": "stdout",
     "output_type": "stream",
     "text": [
      "Top ten non-200 status endpoints:\n",
      "/images/NASA-logosmall.gif\n",
      "/images/KSC-logosmall.gif\n",
      "/images/MOSAIC-logosmall.gif\n",
      "/images/USA-logosmall.gif\n",
      "/images/WORLD-logosmall.gif\n",
      "/images/ksclogo-medium.gif\n",
      "/history/apollo/images/apollo-logo1.gif\n",
      "/images/launch-logo.gif\n",
      "/\n",
      "/images/ksclogosmall.gif\n"
     ]
    }
   ],
   "source": [
    "# TODO: Replace <FILL IN> with appropriate code\n",
    "# HINT: Each of these <FILL IN> below could be completed with a single transformation or action.\n",
    "# You are welcome to structure your solution in a different way, so long as\n",
    "# you ensure the variables used in the next Test section are defined (ie. not_200_counts, top_ten_endpoints_not_200).\n",
    "\n",
    "not_200 = access_logs.filter(func.col('response_code') != 200)\n",
    "\n",
    "not_200_counts = not_200.groupBy('endpoint').count()\n",
    "\n",
    "sorted_not_200 = not_200_counts.orderBy('count', ascending=False)\n",
    "\n",
    "top_ten_endpoints_not_200 = [row['endpoint'] for row in sorted_not_200.head(10)]\n",
    "\n",
    "print('Top ten non-200 status endpoints:')\n",
    "print('\\n'.join(top_ten_endpoints_not_200))"
   ]
  },
  {
   "cell_type": "code",
   "execution_count": 20,
   "metadata": {
    "collapsed": false
   },
   "outputs": [
    {
     "name": "stdout",
     "output_type": "stream",
     "text": [
      "1 test passed.\n",
      "1 test passed.\n"
     ]
    }
   ],
   "source": [
    "# TEST Top ten error endpoints (3a)\n",
    "Test.assertEquals(not_200_counts.count(), 7689, 'incorrect count for not_200_counts')\n",
    "Test.assertEquals(top_ten_endpoints_not_200,\n",
    "                  ['/images/NASA-logosmall.gif',\n",
    "                   '/images/KSC-logosmall.gif',\n",
    "                   '/images/MOSAIC-logosmall.gif',\n",
    "                   '/images/USA-logosmall.gif',\n",
    "                   '/images/WORLD-logosmall.gif',\n",
    "                   '/images/ksclogo-medium.gif',\n",
    "                   '/history/apollo/images/apollo-logo1.gif',\n",
    "                   '/images/launch-logo.gif',\n",
    "                   '/',\n",
    "                   '/images/ksclogosmall.gif'],\n",
    "                  'incorrect top_ten_endpoints_not_200')"
   ]
  },
  {
   "cell_type": "markdown",
   "metadata": {},
   "source": [
    "### (3b) Exercise: Number of Unique Hosts\n",
    "\n",
    "How many unique hosts are there in the entire log?\n",
    " \n",
    "Think about the steps that you need to perform to count the number of different hosts in the log."
   ]
  },
  {
   "cell_type": "code",
   "execution_count": 21,
   "metadata": {
    "collapsed": false
   },
   "outputs": [
    {
     "name": "stdout",
     "output_type": "stream",
     "text": [
      "Number of unique hosts: 54507\n"
     ]
    }
   ],
   "source": [
    "# TODO: Replace <FILL IN> with appropriate code\n",
    "# HINT: Do you recall the tips from (3a)? Each of these <FILL IN> could be an transformation or action.\n",
    "\n",
    "num_hosts = (access_logs\n",
    "             .select('host')\n",
    "             .distinct()\n",
    "             .count())\n",
    "\n",
    "print('Number of unique hosts: {}'.format(num_hosts))"
   ]
  },
  {
   "cell_type": "code",
   "execution_count": 22,
   "metadata": {
    "collapsed": false
   },
   "outputs": [
    {
     "name": "stdout",
     "output_type": "stream",
     "text": [
      "1 test passed.\n"
     ]
    }
   ],
   "source": [
    "# TEST Number of unique hosts (3b)\n",
    "Test.assertEquals(num_hosts, 54507, 'incorrect num_hosts')"
   ]
  },
  {
   "cell_type": "markdown",
   "metadata": {},
   "source": [
    "### (3c) Exercise: Number of Unique Daily Hosts\n",
    "\n",
    "For an advanced exercise, let's determine the number of unique hosts in the entire log on a day-by-day basis. This computation will give us counts of the number of unique daily hosts. We'd like a list sorted by increasing day of the month which includes the day of the month and the associated number of unique hosts for that day.\n",
    " \n",
    "Think about the steps that you need to perform to count the number of different hosts that make requests *each* day. You may find the [dayofmonth scala function](http://spark.apache.org/docs/latest/api/python/pyspark.sql.html#pyspark.sql.functions.dayofmonth) useful.\n",
    "\n",
    "*Since the log only covers a single month, you can ignore the month.*"
   ]
  },
  {
   "cell_type": "code",
   "execution_count": 23,
   "metadata": {
    "collapsed": false
   },
   "outputs": [
    {
     "data": {
      "text/html": [
       "<div>\n",
       "<table border=\"1\" class=\"dataframe\">\n",
       "  <thead>\n",
       "    <tr style=\"text-align: right;\">\n",
       "      <th></th>\n",
       "      <th>dayofmonth</th>\n",
       "      <th>hosts</th>\n",
       "    </tr>\n",
       "  </thead>\n",
       "  <tbody>\n",
       "    <tr>\n",
       "      <th>0</th>\n",
       "      <td>1</td>\n",
       "      <td>2582</td>\n",
       "    </tr>\n",
       "    <tr>\n",
       "      <th>1</th>\n",
       "      <td>3</td>\n",
       "      <td>2591</td>\n",
       "    </tr>\n",
       "    <tr>\n",
       "      <th>2</th>\n",
       "      <td>4</td>\n",
       "      <td>4262</td>\n",
       "    </tr>\n",
       "    <tr>\n",
       "      <th>3</th>\n",
       "      <td>5</td>\n",
       "      <td>2573</td>\n",
       "    </tr>\n",
       "    <tr>\n",
       "      <th>4</th>\n",
       "      <td>6</td>\n",
       "      <td>2469</td>\n",
       "    </tr>\n",
       "    <tr>\n",
       "      <th>5</th>\n",
       "      <td>7</td>\n",
       "      <td>4067</td>\n",
       "    </tr>\n",
       "    <tr>\n",
       "      <th>6</th>\n",
       "      <td>8</td>\n",
       "      <td>4259</td>\n",
       "    </tr>\n",
       "    <tr>\n",
       "      <th>7</th>\n",
       "      <td>9</td>\n",
       "      <td>4440</td>\n",
       "    </tr>\n",
       "    <tr>\n",
       "      <th>8</th>\n",
       "      <td>10</td>\n",
       "      <td>4432</td>\n",
       "    </tr>\n",
       "    <tr>\n",
       "      <th>9</th>\n",
       "      <td>11</td>\n",
       "      <td>4507</td>\n",
       "    </tr>\n",
       "    <tr>\n",
       "      <th>10</th>\n",
       "      <td>12</td>\n",
       "      <td>2865</td>\n",
       "    </tr>\n",
       "    <tr>\n",
       "      <th>11</th>\n",
       "      <td>13</td>\n",
       "      <td>2667</td>\n",
       "    </tr>\n",
       "    <tr>\n",
       "      <th>12</th>\n",
       "      <td>14</td>\n",
       "      <td>4363</td>\n",
       "    </tr>\n",
       "    <tr>\n",
       "      <th>13</th>\n",
       "      <td>15</td>\n",
       "      <td>4334</td>\n",
       "    </tr>\n",
       "    <tr>\n",
       "      <th>14</th>\n",
       "      <td>16</td>\n",
       "      <td>4253</td>\n",
       "    </tr>\n",
       "    <tr>\n",
       "      <th>15</th>\n",
       "      <td>17</td>\n",
       "      <td>4412</td>\n",
       "    </tr>\n",
       "    <tr>\n",
       "      <th>16</th>\n",
       "      <td>18</td>\n",
       "      <td>4231</td>\n",
       "    </tr>\n",
       "    <tr>\n",
       "      <th>17</th>\n",
       "      <td>19</td>\n",
       "      <td>2620</td>\n",
       "    </tr>\n",
       "    <tr>\n",
       "      <th>18</th>\n",
       "      <td>20</td>\n",
       "      <td>2482</td>\n",
       "    </tr>\n",
       "    <tr>\n",
       "      <th>19</th>\n",
       "      <td>21</td>\n",
       "      <td>4125</td>\n",
       "    </tr>\n",
       "    <tr>\n",
       "      <th>20</th>\n",
       "      <td>22</td>\n",
       "      <td>4416</td>\n",
       "    </tr>\n",
       "    <tr>\n",
       "      <th>21</th>\n",
       "      <td>23</td>\n",
       "      <td>696</td>\n",
       "    </tr>\n",
       "  </tbody>\n",
       "</table>\n",
       "</div>"
      ],
      "text/plain": [
       "    dayofmonth  hosts\n",
       "0            1   2582\n",
       "1            3   2591\n",
       "2            4   4262\n",
       "3            5   2573\n",
       "4            6   2469\n",
       "5            7   4067\n",
       "6            8   4259\n",
       "7            9   4440\n",
       "8           10   4432\n",
       "9           11   4507\n",
       "10          12   2865\n",
       "11          13   2667\n",
       "12          14   4363\n",
       "13          15   4334\n",
       "14          16   4253\n",
       "15          17   4412\n",
       "16          18   4231\n",
       "17          19   2620\n",
       "18          20   2482\n",
       "19          21   4125\n",
       "20          22   4416\n",
       "21          23    696"
      ]
     },
     "execution_count": 23,
     "metadata": {},
     "output_type": "execute_result"
    }
   ],
   "source": [
    "# TODO: Replace <FILL IN> with appropriate code\n",
    "\n",
    "grouped_by_day = (access_logs\n",
    "                  .groupBy(func.dayofmonth('date_time').alias('dayofmonth')))\n",
    "\n",
    "daily_hosts = (grouped_by_day\n",
    "               .agg(func.countDistinct('host').alias('hosts'))\n",
    "               .orderBy('dayofmonth'))\n",
    "\n",
    "daily_hosts.toPandas()"
   ]
  },
  {
   "cell_type": "code",
   "execution_count": 24,
   "metadata": {
    "collapsed": false
   },
   "outputs": [
    {
     "name": "stdout",
     "output_type": "stream",
     "text": [
      "1 test passed.\n",
      "1 test passed.\n"
     ]
    }
   ],
   "source": [
    "# TEST Number of unique daily hosts (3c)\n",
    "Test.assertEquals(daily_hosts.count(), 22, 'incorrect unique_hosts_by_day.count()')\n",
    "Test.assertEquals(list(tuple(row) for _, row in daily_hosts.toPandas().iterrows()),\n",
    "                  [(1, 2582), (3, 2591), (4, 4262), (5, 2573), (6, 2469), (7, 4067),\n",
    "                   (8, 4259), (9, 4440), (10, 4432), (11, 4507), (12, 2865), (13, 2667),\n",
    "                   (14, 4363), (15, 4334), (16, 4253), (17, 4412), (18, 4231), (19, 2620),\n",
    "                   (20, 2482), (21, 4125), (22, 4416), (23, 696)],\n",
    "                  'incorrect daily_hosts')"
   ]
  },
  {
   "cell_type": "markdown",
   "metadata": {},
   "source": [
    "### (3d) Exercise: Visualizing the Number of Unique Daily Hosts\n",
    "\n",
    "Using the results from the previous exercise, use matplotlib to plot a line graph of the unique hosts requests by day. `.toPandas()` is a useful method for converting a Spark DataFrame to a Pandas DataFrame."
   ]
  },
  {
   "cell_type": "code",
   "execution_count": 25,
   "metadata": {
    "collapsed": false
   },
   "outputs": [
    {
     "data": {
      "image/png": "[encoded data removed]",
      "text/plain": [
       "<matplotlib.figure.Figure at 0x7f94d39ed358>"
      ]
     },
     "metadata": {},
     "output_type": "display_data"
    }
   ],
   "source": [
    "pandas_df = daily_hosts.toPandas()\n",
    "\n",
    "fig, ax = pyplot.subplots(figsize=(12, 6))\n",
    "ax.plot(pandas_df[pandas_df.columns[0]],\n",
    "        pandas_df[pandas_df.columns[1]],\n",
    "        'x-')\n",
    "\n",
    "ax.set_xlabel('Day')\n",
    "ax.set_ylabel('Hosts')\n",
    "ax.grid()\n",
    "\n",
    "pass"
   ]
  },
  {
   "cell_type": "markdown",
   "metadata": {},
   "source": [
    "### (3e) Exercise: Average Number of Daily Requests per Hosts\n",
    "\n",
    "Next, let's determine the average number of requests on a day-by-day basis. We'd like a list by increasing day of the month and the associated average number of requests per host for that day. Make sure you cache the resulting RDD `avgDailyReqPerHost` so that we can reuse it in the next exercise.\n",
    "\n",
    "To compute the average number of requests per host, get the total number of request across all hosts and divide that by the number of unique hosts.\n",
    "\n",
    "*Since the log only covers a single month, you can skip checking for the month. Also, to keep it simple, when calculating the approximate average use the integer value - you do not need to upcast to float*"
   ]
  },
  {
   "cell_type": "code",
   "execution_count": 26,
   "metadata": {
    "collapsed": false
   },
   "outputs": [
    {
     "data": {
      "text/html": [
       "<div>\n",
       "<table border=\"1\" class=\"dataframe\">\n",
       "  <thead>\n",
       "    <tr style=\"text-align: right;\">\n",
       "      <th></th>\n",
       "      <th>dayofmonth</th>\n",
       "      <th>avg(count)</th>\n",
       "    </tr>\n",
       "  </thead>\n",
       "  <tbody>\n",
       "    <tr>\n",
       "      <th>0</th>\n",
       "      <td>1</td>\n",
       "      <td>13.166538</td>\n",
       "    </tr>\n",
       "    <tr>\n",
       "      <th>1</th>\n",
       "      <td>3</td>\n",
       "      <td>12.744886</td>\n",
       "    </tr>\n",
       "    <tr>\n",
       "      <th>2</th>\n",
       "      <td>4</td>\n",
       "      <td>14.300798</td>\n",
       "    </tr>\n",
       "    <tr>\n",
       "      <th>3</th>\n",
       "      <td>5</td>\n",
       "      <td>12.589973</td>\n",
       "    </tr>\n",
       "    <tr>\n",
       "      <th>4</th>\n",
       "      <td>6</td>\n",
       "      <td>13.079789</td>\n",
       "    </tr>\n",
       "    <tr>\n",
       "      <th>5</th>\n",
       "      <td>7</td>\n",
       "      <td>13.868699</td>\n",
       "    </tr>\n",
       "    <tr>\n",
       "      <th>6</th>\n",
       "      <td>8</td>\n",
       "      <td>13.578305</td>\n",
       "    </tr>\n",
       "    <tr>\n",
       "      <th>7</th>\n",
       "      <td>9</td>\n",
       "      <td>13.905631</td>\n",
       "    </tr>\n",
       "    <tr>\n",
       "      <th>8</th>\n",
       "      <td>10</td>\n",
       "      <td>13.823782</td>\n",
       "    </tr>\n",
       "    <tr>\n",
       "      <th>9</th>\n",
       "      <td>11</td>\n",
       "      <td>13.844686</td>\n",
       "    </tr>\n",
       "    <tr>\n",
       "      <th>10</th>\n",
       "      <td>12</td>\n",
       "      <td>12.878534</td>\n",
       "    </tr>\n",
       "    <tr>\n",
       "      <th>11</th>\n",
       "      <td>13</td>\n",
       "      <td>13.900262</td>\n",
       "    </tr>\n",
       "    <tr>\n",
       "      <th>12</th>\n",
       "      <td>14</td>\n",
       "      <td>13.585606</td>\n",
       "    </tr>\n",
       "    <tr>\n",
       "      <th>13</th>\n",
       "      <td>15</td>\n",
       "      <td>13.889017</td>\n",
       "    </tr>\n",
       "    <tr>\n",
       "      <th>14</th>\n",
       "      <td>16</td>\n",
       "      <td>13.090759</td>\n",
       "    </tr>\n",
       "    <tr>\n",
       "      <th>15</th>\n",
       "      <td>17</td>\n",
       "      <td>13.418178</td>\n",
       "    </tr>\n",
       "    <tr>\n",
       "      <th>16</th>\n",
       "      <td>18</td>\n",
       "      <td>13.555188</td>\n",
       "    </tr>\n",
       "    <tr>\n",
       "      <th>17</th>\n",
       "      <td>19</td>\n",
       "      <td>12.502290</td>\n",
       "    </tr>\n",
       "    <tr>\n",
       "      <th>18</th>\n",
       "      <td>20</td>\n",
       "      <td>13.029815</td>\n",
       "    </tr>\n",
       "    <tr>\n",
       "      <th>19</th>\n",
       "      <td>21</td>\n",
       "      <td>13.402424</td>\n",
       "    </tr>\n",
       "    <tr>\n",
       "      <th>20</th>\n",
       "      <td>22</td>\n",
       "      <td>12.965806</td>\n",
       "    </tr>\n",
       "    <tr>\n",
       "      <th>21</th>\n",
       "      <td>23</td>\n",
       "      <td>10.886494</td>\n",
       "    </tr>\n",
       "  </tbody>\n",
       "</table>\n",
       "</div>"
      ],
      "text/plain": [
       "    dayofmonth  avg(count)\n",
       "0            1   13.166538\n",
       "1            3   12.744886\n",
       "2            4   14.300798\n",
       "3            5   12.589973\n",
       "4            6   13.079789\n",
       "5            7   13.868699\n",
       "6            8   13.578305\n",
       "7            9   13.905631\n",
       "8           10   13.823782\n",
       "9           11   13.844686\n",
       "10          12   12.878534\n",
       "11          13   13.900262\n",
       "12          14   13.585606\n",
       "13          15   13.889017\n",
       "14          16   13.090759\n",
       "15          17   13.418178\n",
       "16          18   13.555188\n",
       "17          19   12.502290\n",
       "18          20   13.029815\n",
       "19          21   13.402424\n",
       "20          22   12.965806\n",
       "21          23   10.886494"
      ]
     },
     "execution_count": 26,
     "metadata": {},
     "output_type": "execute_result"
    }
   ],
   "source": [
    "# TODO: Replace <FILL IN> with appropriate code\n",
    "\n",
    "daily_host_requests = (access_logs\n",
    "                       .groupBy(\n",
    "                           'host',\n",
    "                           func.dayofmonth('date_time').alias('dayofmonth')\n",
    "                       )\n",
    "                       .count())\n",
    "\n",
    "average_daily_requests_per_host = (daily_host_requests\n",
    "                                   .groupBy('dayofmonth')\n",
    "                                   .avg('count')\n",
    "                                   .orderBy('dayofmonth'))\n",
    "\n",
    "average_daily_requests_per_host.toPandas()"
   ]
  },
  {
   "cell_type": "code",
   "execution_count": 27,
   "metadata": {
    "collapsed": false
   },
   "outputs": [
    {
     "name": "stdout",
     "output_type": "stream",
     "text": [
      "1 test passed.\n"
     ]
    }
   ],
   "source": [
    "# TEST Average number of daily requests per hosts (3e)\n",
    "Test.assertEquals(list((row[0], round(row[1], 2)) for _, row in average_daily_requests_per_host.toPandas().iterrows()),\n",
    "                  [(1.0, 13.17), (3.0, 12.74), (4.0, 14.30), (5.0, 12.59), (6.0, 13.08), (7.0, 13.87),\n",
    "                   (8.0, 13.58), (9.0, 13.91), (10.0, 13.82), (11.0, 13.84), (12.0, 12.88), (13.0, 13.9),\n",
    "                   (14.0, 13.59), (15.0, 13.89), (16.0, 13.09), (17.0, 13.42), (18.0, 13.56), (19.0, 12.5),\n",
    "                   (20.0, 13.03), (21.0, 13.4), (22.0, 12.97), (23.0, 10.89)],\n",
    "                  'incorrect average_daily_requests_per_host')"
   ]
  },
  {
   "cell_type": "markdown",
   "metadata": {},
   "source": [
    "## (4) Exploring 404 Response Codes\n",
    " \n",
    "Let's drill down and explore the error 404 response code records. 404 errors are returned when an endpoint is not found by the server (i.e., a missing page or object)."
   ]
  },
  {
   "cell_type": "markdown",
   "metadata": {},
   "source": [
    "### (4a) Exercise: Counting 404 Response Codes\n",
    "\n",
    "Create a DataFrame containing only log records with a 404 response code. Make sure you `cache()` the DataFrame `bad_records` as we will use it in the rest of this exercise.\n",
    " \n",
    "How many 404 records are in the log?"
   ]
  },
  {
   "cell_type": "code",
   "execution_count": 28,
   "metadata": {
    "collapsed": false
   },
   "outputs": [
    {
     "name": "stdout",
     "output_type": "stream",
     "text": [
      "Found 6185 404 URLs\n"
     ]
    }
   ],
   "source": [
    "# TODO: Replace <FILL IN> with appropriate code\n",
    "\n",
    "bad_records = (access_logs\n",
    "               .filter(func.col('response_code') == 404)\n",
    "               .cache())\n",
    "\n",
    "print('Found {} 404 URLs'.format(bad_records.count()))"
   ]
  },
  {
   "cell_type": "markdown",
   "metadata": {},
   "source": [
    "### (4b) Exercise: Listing 404 Response Code Records\n",
    "\n",
    "Using the DataFrame containing only log records with a 404 response code that you cached in part (4a), print out a list up to 40 **distinct** endpoints that generate 404 errors -  *no endpoint should appear more than once in your list.*"
   ]
  },
  {
   "cell_type": "code",
   "execution_count": 29,
   "metadata": {
    "collapsed": false
   },
   "outputs": [
    {
     "name": "stdout",
     "output_type": "stream",
     "text": [
      "+-------------------------------------------------+\n",
      "|endpoint                                         |\n",
      "+-------------------------------------------------+\n",
      "|/shuttle/missions/sts-68/images/images.html      |\n",
      "|/history/apollo/a-001/news/                      |\n",
      "|/history/apollo/a-003/movies/                    |\n",
      "|/CSMT_PageNS                                     |\n",
      "|/pub/wiinvn/win3/ww16_99_.zip                    |\n",
      "|/public.win3/winvn                               |\n",
      "|/shuttle/sts-1/sts-1-pa.jpg                      |\n",
      "|/history/apollo/apollo/13                        |\n",
      "|/shuttle/technology/images/sts-comm-small.gif    |\n",
      "|/shuttle/missions/sts-71/images/KSC-95EC-0916.txt|\n",
      "|/shuttle/countdown/ac.html                       |\n",
      "|/pub/winvn/docs                                  |\n",
      "|/IMAGES/RSS.GIF                                  |\n",
      "|/history/apollo/-apollo-13/apollo-3.html         |\n",
      "|/pub/winvn/readme.txt                            |\n",
      "|/ksc.shtml                                       |\n",
      "|/img/sportstalk3.gif                             |\n",
      "|/home.html                                       |\n",
      "|/shuttle/missions/sts-61a/mission-sts-61a.html   |\n",
      "|/shuttle/technology/sts-newsref/srb.html%23srb   |\n",
      "|/astronaut.*                                     |\n",
      "|/history/apollo-12/apollo-12.html                |\n",
      "|/history/apollo/sa-9/images/                     |\n",
      "|/elv/FACILITIES/elvhead2.gif                     |\n",
      "|/shuttle/missions/sts-86/mission-sts-86.html     |\n",
      "|/history/gemini/gemini-12.html                   |\n",
      "|/histoty/apollo/aplool-13/apollo-13.html         |\n",
      "|/hqpao/hqpao-home.html                           |\n",
      "|/winvn/winvn.html.                               |\n",
      "|/www.quadralay.com                               |\n",
      "|/shuttle/missions/missionshtml                   |\n",
      "|/history/apollo/-apollo-13/apollo13.html         |\n",
      "|/shuttle/miccions/sts-73/mission-sts-73.html     |\n",
      "|/history/skylab/skylab-2-patch-small.gif         |\n",
      "|/pub.win3/winvn                                  |\n",
      "|/apollo/apollo.html                              |\n",
      "|/gacts/faq12.html                                |\n",
      "|/128.159.104.89/tvnet                            |\n",
      "|/hmhome.hml                                      |\n",
      "|/shuttle/missions/sts-759/                       |\n",
      "+-------------------------------------------------+\n",
      "only showing top 40 rows\n",
      "\n"
     ]
    }
   ],
   "source": [
    "# TODO: Replace <FILL IN> with appropriate code\n",
    "\n",
    "bad_unique_endpoints = (bad_records\n",
    "                        .select('endpoint')\n",
    "                        .distinct())\n",
    "\n",
    "bad_unique_endpoints.show(40, truncate=False)"
   ]
  },
  {
   "cell_type": "markdown",
   "metadata": {},
   "source": [
    "### (4c) Exercise: Listing the Top Twenty 404 Response Code Endpoints\n",
    "\n",
    "Using the DataFrame containing only log records with a 404 response code that you cached in part (4a), print out a list of the top twenty endpoints that generate the most 404 errors.\n",
    "\n",
    "*Remember, top endpoints should be in sorted order*"
   ]
  },
  {
   "cell_type": "code",
   "execution_count": 30,
   "metadata": {
    "collapsed": false
   },
   "outputs": [
    {
     "name": "stdout",
     "output_type": "stream",
     "text": [
      "+-----------------------------------------------------------------+-----+\n",
      "|endpoint                                                         |count|\n",
      "+-----------------------------------------------------------------+-----+\n",
      "|/pub/winvn/readme.txt                                            |633  |\n",
      "|/pub/winvn/release.txt                                           |494  |\n",
      "|/shuttle/missions/STS-69/mission-STS-69.html                     |431  |\n",
      "|/images/nasa-logo.gif                                            |319  |\n",
      "|/elv/DELTA/uncons.htm                                            |178  |\n",
      "|/shuttle/missions/sts-68/ksc-upclose.gif                         |156  |\n",
      "|/history/apollo/sa-1/sa-1-patch-small.gif                        |146  |\n",
      "|/images/crawlerway-logo.gif                                      |120  |\n",
      "|/://spacelink.msfc.nasa.gov                                      |117  |\n",
      "|/history/apollo/pad-abort-test-1/pad-abort-test-1-patch-small.gif|100  |\n",
      "|/history/apollo/a-001/a-001-patch-small.gif                      |97   |\n",
      "|/images/Nasa-logo.gif                                            |85   |\n",
      "|/shuttle/resources/orbiters/atlantis.gif                         |64   |\n",
      "|/history/apollo/images/little-joe.jpg                            |62   |\n",
      "|/images/lf-logo.gif                                              |59   |\n",
      "|/shuttle/resources/orbiters/discovery.gif                        |56   |\n",
      "|/shuttle/resources/orbiters/challenger.gif                       |54   |\n",
      "|/robots.txt                                                      |53   |\n",
      "|/elv/new01.gif>                                                  |43   |\n",
      "|/history/apollo/pad-abort-test-2/pad-abort-test-2-patch-small.gif|38   |\n",
      "+-----------------------------------------------------------------+-----+\n",
      "only showing top 20 rows\n",
      "\n"
     ]
    }
   ],
   "source": [
    "bad_endpoints_ranked = (bad_records\n",
    "                        .groupBy('endpoint')\n",
    "                        .count()\n",
    "                        .orderBy('count', ascending=False))\n",
    "\n",
    "bad_endpoints_ranked.show(20, truncate=False)"
   ]
  },
  {
   "cell_type": "markdown",
   "metadata": {},
   "source": [
    "### (4d) Exercise: Listing the Top Twenty-five 404 Response Code Hosts\n",
    "\n",
    "Instead of looking at the endpoints that generated 404 errors, let's look at the hosts that encountered 404 errors. Using the DataFrame containing only log records with a 404 response code that you cached in part (4a), print out a list of the top twenty-five hosts that generate the most 404 errors."
   ]
  },
  {
   "cell_type": "code",
   "execution_count": 31,
   "metadata": {
    "collapsed": false
   },
   "outputs": [
    {
     "name": "stdout",
     "output_type": "stream",
     "text": [
      "+----------------------------+-----+\n",
      "|host                        |count|\n",
      "+----------------------------+-----+\n",
      "|maz3.maz.net                |39   |\n",
      "|piweba3y.prodigy.com        |39   |\n",
      "|gate.barr.com               |38   |\n",
      "|m38-370-9.mit.edu           |37   |\n",
      "|ts8-1.westwood.ts.ucla.edu  |37   |\n",
      "|nexus.mlckew.edu.au         |37   |\n",
      "|204.62.245.32               |33   |\n",
      "|spica.sci.isas.ac.jp        |27   |\n",
      "|163.206.104.34              |27   |\n",
      "|www-d4.proxy.aol.com        |26   |\n",
      "|www-c4.proxy.aol.com        |25   |\n",
      "|203.13.168.24               |25   |\n",
      "|203.13.168.17               |25   |\n",
      "|internet-gw.watson.ibm.com  |24   |\n",
      "|scooter.pa-x.dec.com        |23   |\n",
      "|piweba5y.prodigy.com        |23   |\n",
      "|crl5.crl.com                |23   |\n",
      "|onramp2-9.onr.com           |22   |\n",
      "|slip145-189.ut.nl.ibm.net   |22   |\n",
      "|198.40.25.102.sap2.artic.edu|21   |\n",
      "|msp1-16.nas.mr.net          |20   |\n",
      "|gn2.getnet.com              |20   |\n",
      "|tigger.nashscene.com        |19   |\n",
      "|dial055.mbnet.mb.ca         |19   |\n",
      "|isou24.vilspa.esa.es        |19   |\n",
      "+----------------------------+-----+\n",
      "only showing top 25 rows\n",
      "\n"
     ]
    }
   ],
   "source": [
    "bad_hosts_ranked = (bad_records\n",
    "                    .groupBy('host')\n",
    "                    .count()\n",
    "                    .orderBy('count', ascending=False))\n",
    "\n",
    "bad_hosts_ranked.show(25, truncate=False)"
   ]
  },
  {
   "cell_type": "markdown",
   "metadata": {},
   "source": [
    "### (4e) Exercise: Listing 404 Response Codes per Day\n",
    "\n",
    "Let's explore the 404 records temporally. Break down the 404 requests by day and get the daily counts sorted by day as a list.\n",
    "\n",
    "*Since the log only covers a single month, you can ignore the month in your checks.*"
   ]
  },
  {
   "cell_type": "code",
   "execution_count": 32,
   "metadata": {
    "collapsed": false
   },
   "outputs": [
    {
     "name": "stdout",
     "output_type": "stream",
     "text": [
      "+----------+-----+\n",
      "|dayofmonth|count|\n",
      "+----------+-----+\n",
      "|         1|  243|\n",
      "|         3|  221|\n",
      "|         4|  373|\n",
      "|         5|  240|\n",
      "|         6|  390|\n",
      "|         7|  517|\n",
      "|         8|  344|\n",
      "|         9|  320|\n",
      "|        10|  294|\n",
      "|        11|  298|\n",
      "|        12|  170|\n",
      "|        13|  210|\n",
      "|        14|  307|\n",
      "|        15|  322|\n",
      "|        16|  255|\n",
      "|        17|  262|\n",
      "|        18|  260|\n",
      "|        19|  224|\n",
      "|        20|  292|\n",
      "|        21|  308|\n",
      "|        22|  256|\n",
      "|        23|   79|\n",
      "+----------+-----+\n",
      "\n"
     ]
    }
   ],
   "source": [
    "bad_records_per_day = (bad_records\n",
    "                       .groupBy(func.dayofmonth('date_time').alias('dayofmonth'))\n",
    "                       .count()\n",
    "                       .orderBy('dayofmonth'))\n",
    "\n",
    "bad_records_per_day.show(30)"
   ]
  },
  {
   "cell_type": "markdown",
   "metadata": {},
   "source": [
    "### (4f) Exercise: Visualizing the 404 Response Codes by Day\n",
    "\n",
    "Using the results from the previous exercise, use `matplotlib` to plot a \"Line\" or \"Bar\" graph of the 404 response codes by day."
   ]
  },
  {
   "cell_type": "code",
   "execution_count": 33,
   "metadata": {
    "collapsed": false
   },
   "outputs": [
    {
     "data": {
      "image/png": "[encoded data removed]",
      "text/plain": [
       "<matplotlib.figure.Figure at 0x7f94d3909f98>"
      ]
     },
     "metadata": {},
     "output_type": "display_data"
    }
   ],
   "source": [
    "pandas_df = bad_records_per_day.toPandas()\n",
    "\n",
    "fig, ax = pyplot.subplots(figsize=(12, 8))\n",
    "\n",
    "ax.plot(pandas_df['dayofmonth'], pandas_df['count'])\n",
    "\n",
    "ax.set_xlabel('Day')\n",
    "ax.set_ylabel('404 Errors')\n",
    "ax.grid()\n",
    "pass"
   ]
  },
  {
   "cell_type": "markdown",
   "metadata": {},
   "source": [
    "### (4g) Exercise: Hourly 404 Response Codes\n",
    "\n",
    "Using the DataFrame `bad_records` you cached in the part (4a) and by hour of the day and in increasing order, create a DataFrame containing how many requests had a 404 return code for each hour of the day (midnight starts at 0)."
   ]
  },
  {
   "cell_type": "code",
   "execution_count": 34,
   "metadata": {
    "collapsed": false
   },
   "outputs": [
    {
     "name": "stdout",
     "output_type": "stream",
     "text": [
      "+----+-----+\n",
      "|hour|count|\n",
      "+----+-----+\n",
      "|   0|  270|\n",
      "|   1|  241|\n",
      "|   2|  234|\n",
      "|   3|  272|\n",
      "|   4|  175|\n",
      "|   5|  171|\n",
      "|   6|  422|\n",
      "|   7|  272|\n",
      "|   8|  102|\n",
      "|   9|   95|\n",
      "|  10|   93|\n",
      "|  11|  122|\n",
      "|  12|  199|\n",
      "|  13|  185|\n",
      "|  14|  329|\n",
      "|  15|  263|\n",
      "|  16|  438|\n",
      "|  17|  397|\n",
      "|  18|  318|\n",
      "|  19|  347|\n",
      "|  20|  373|\n",
      "|  21|  330|\n",
      "|  22|  268|\n",
      "|  23|  269|\n",
      "+----+-----+\n",
      "\n"
     ]
    }
   ],
   "source": [
    "bad_records_by_hour = (bad_records\n",
    "                       .groupBy(func.hour('date_time').alias('hour'))\n",
    "                       .count()\n",
    "                       .orderBy('hour'))\n",
    "\n",
    "bad_records_by_hour.show(24)"
   ]
  },
  {
   "cell_type": "markdown",
   "metadata": {},
   "source": [
    "### (4h) Exercise: Visualizing the 404 Response Codes by Hour\n",
    "\n",
    "Using the results from the previous exercise, use `matplotlib` to plot a \"Line\" or \"Bar\" graph of the 404 response codes by hour."
   ]
  },
  {
   "cell_type": "code",
   "execution_count": 35,
   "metadata": {
    "collapsed": false
   },
   "outputs": [
    {
     "data": {
      "image/png": "[encoded data removed]",
      "text/plain": [
       "<matplotlib.figure.Figure at 0x7f94d3958518>"
      ]
     },
     "metadata": {},
     "output_type": "display_data"
    }
   ],
   "source": [
    "pandas_df = bad_records_by_hour.toPandas()\n",
    "\n",
    "fig, ax = pyplot.subplots(figsize=(12, 8))\n",
    "\n",
    "ax.plot(pandas_df['hour'], pandas_df['count'])\n",
    "\n",
    "ax.set_xlabel('Hour')\n",
    "ax.set_ylabel('404 Errors')\n",
    "ax.grid()\n",
    "pass"
   ]
  }
 ],
 "metadata": {
  "kernelspec": {
   "display_name": "Python [conda env:Python3]",
   "language": "python",
   "name": "conda-env-Python3-py"
  },
  "language_info": {
   "codemirror_mode": {
    "name": "ipython",
    "version": 3
   },
   "file_extension": ".py",
   "mimetype": "text/x-python",
   "name": "python",
   "nbconvert_exporter": "python",
   "pygments_lexer": "ipython3",
   "version": "3.5.2"
  }
 },
 "nbformat": 4,
 "nbformat_minor": 0
}
